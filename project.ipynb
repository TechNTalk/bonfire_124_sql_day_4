{
 "cells": [
  {
   "cell_type": "code",
   "execution_count": 1,
   "metadata": {},
   "outputs": [],
   "source": [
    "import pandas as pd\n",
    "import plotly.express as px"
   ]
  },
  {
   "cell_type": "code",
   "execution_count": 43,
   "metadata": {},
   "outputs": [
    {
     "data": {
      "text/html": [
       "<div>\n",
       "<style scoped>\n",
       "    .dataframe tbody tr th:only-of-type {\n",
       "        vertical-align: middle;\n",
       "    }\n",
       "\n",
       "    .dataframe tbody tr th {\n",
       "        vertical-align: top;\n",
       "    }\n",
       "\n",
       "    .dataframe thead th {\n",
       "        text-align: right;\n",
       "    }\n",
       "</style>\n",
       "<table border=\"1\" class=\"dataframe\">\n",
       "  <thead>\n",
       "    <tr style=\"text-align: right;\">\n",
       "      <th></th>\n",
       "      <th>Item</th>\n",
       "      <th>Calories</th>\n",
       "      <th>Calories from\\nFat</th>\n",
       "      <th>Total Fat\\n(g)</th>\n",
       "      <th>Saturated Fat\\n(g)</th>\n",
       "      <th>Trans Fat\\n(g)</th>\n",
       "      <th>Cholesterol\\n(mg)</th>\n",
       "      <th>Sodium \\n(mg)</th>\n",
       "      <th>Carbs\\n(g)</th>\n",
       "      <th>Fiber\\n(g)</th>\n",
       "      <th>Sugars\\n(g)</th>\n",
       "      <th>Protein\\n(g)</th>\n",
       "      <th>Weight Watchers\\nPnts</th>\n",
       "    </tr>\n",
       "  </thead>\n",
       "  <tbody>\n",
       "    <tr>\n",
       "      <th>0</th>\n",
       "      <td>Hamburger</td>\n",
       "      <td>250.0</td>\n",
       "      <td>80.0</td>\n",
       "      <td>9.0</td>\n",
       "      <td>3.5</td>\n",
       "      <td>0.5</td>\n",
       "      <td>25.0</td>\n",
       "      <td>520.0</td>\n",
       "      <td>31.0</td>\n",
       "      <td>2.0</td>\n",
       "      <td>6.0</td>\n",
       "      <td>12.0</td>\n",
       "      <td>247.5</td>\n",
       "    </tr>\n",
       "    <tr>\n",
       "      <th>1</th>\n",
       "      <td>Cheeseburger</td>\n",
       "      <td>300.0</td>\n",
       "      <td>110.0</td>\n",
       "      <td>12.0</td>\n",
       "      <td>6</td>\n",
       "      <td>0.5</td>\n",
       "      <td>40.0</td>\n",
       "      <td>750.0</td>\n",
       "      <td>33.0</td>\n",
       "      <td>2.0</td>\n",
       "      <td>6.0</td>\n",
       "      <td>15.0</td>\n",
       "      <td>297.0</td>\n",
       "    </tr>\n",
       "    <tr>\n",
       "      <th>2</th>\n",
       "      <td>Double Cheeseburger</td>\n",
       "      <td>440.0</td>\n",
       "      <td>210.0</td>\n",
       "      <td>23.0</td>\n",
       "      <td>11</td>\n",
       "      <td>1.5</td>\n",
       "      <td>80.0</td>\n",
       "      <td>1150.0</td>\n",
       "      <td>34.0</td>\n",
       "      <td>2.0</td>\n",
       "      <td>7.0</td>\n",
       "      <td>25.0</td>\n",
       "      <td>433.0</td>\n",
       "    </tr>\n",
       "    <tr>\n",
       "      <th>3</th>\n",
       "      <td>McDouble</td>\n",
       "      <td>390.0</td>\n",
       "      <td>170.0</td>\n",
       "      <td>19.0</td>\n",
       "      <td>8</td>\n",
       "      <td>1.0</td>\n",
       "      <td>65.0</td>\n",
       "      <td>920.0</td>\n",
       "      <td>33.0</td>\n",
       "      <td>2.0</td>\n",
       "      <td>7.0</td>\n",
       "      <td>22.0</td>\n",
       "      <td>383.0</td>\n",
       "    </tr>\n",
       "    <tr>\n",
       "      <th>4</th>\n",
       "      <td>Quarter Pounder® with Cheese</td>\n",
       "      <td>510.0</td>\n",
       "      <td>230.0</td>\n",
       "      <td>26.0</td>\n",
       "      <td>12</td>\n",
       "      <td>1.5</td>\n",
       "      <td>90.0</td>\n",
       "      <td>1190.0</td>\n",
       "      <td>40.0</td>\n",
       "      <td>3.0</td>\n",
       "      <td>9.0</td>\n",
       "      <td>29.0</td>\n",
       "      <td>502.0</td>\n",
       "    </tr>\n",
       "    <tr>\n",
       "      <th>...</th>\n",
       "      <td>...</td>\n",
       "      <td>...</td>\n",
       "      <td>...</td>\n",
       "      <td>...</td>\n",
       "      <td>...</td>\n",
       "      <td>...</td>\n",
       "      <td>...</td>\n",
       "      <td>...</td>\n",
       "      <td>...</td>\n",
       "      <td>...</td>\n",
       "      <td>...</td>\n",
       "      <td>...</td>\n",
       "      <td>...</td>\n",
       "    </tr>\n",
       "    <tr>\n",
       "      <th>325</th>\n",
       "      <td>Strawberry Banana Smoothie (Medium)</td>\n",
       "      <td>260.0</td>\n",
       "      <td>5.0</td>\n",
       "      <td>1.0</td>\n",
       "      <td>0</td>\n",
       "      <td>0.0</td>\n",
       "      <td>5.0</td>\n",
       "      <td>40.0</td>\n",
       "      <td>60.0</td>\n",
       "      <td>3.0</td>\n",
       "      <td>54.0</td>\n",
       "      <td>2.0</td>\n",
       "      <td>312.0</td>\n",
       "    </tr>\n",
       "    <tr>\n",
       "      <th>326</th>\n",
       "      <td>Strawberry Banana Smoothie (Small)</td>\n",
       "      <td>210.0</td>\n",
       "      <td>5.0</td>\n",
       "      <td>0.5</td>\n",
       "      <td>0</td>\n",
       "      <td>0.0</td>\n",
       "      <td>5.0</td>\n",
       "      <td>35.0</td>\n",
       "      <td>49.0</td>\n",
       "      <td>2.0</td>\n",
       "      <td>44.0</td>\n",
       "      <td>2.0</td>\n",
       "      <td>252.0</td>\n",
       "    </tr>\n",
       "    <tr>\n",
       "      <th>327</th>\n",
       "      <td>Wild Berry Smoothie (Large)</td>\n",
       "      <td>320.0</td>\n",
       "      <td>10.0</td>\n",
       "      <td>1.0</td>\n",
       "      <td>0.5</td>\n",
       "      <td>0.0</td>\n",
       "      <td>5.0</td>\n",
       "      <td>45.0</td>\n",
       "      <td>75.0</td>\n",
       "      <td>4.0</td>\n",
       "      <td>69.0</td>\n",
       "      <td>3.0</td>\n",
       "      <td>386.5</td>\n",
       "    </tr>\n",
       "    <tr>\n",
       "      <th>328</th>\n",
       "      <td>Wild Berry Smoothie (Medium)</td>\n",
       "      <td>260.0</td>\n",
       "      <td>5.0</td>\n",
       "      <td>1.0</td>\n",
       "      <td>0</td>\n",
       "      <td>0.0</td>\n",
       "      <td>5.0</td>\n",
       "      <td>35.0</td>\n",
       "      <td>60.0</td>\n",
       "      <td>4.0</td>\n",
       "      <td>55.0</td>\n",
       "      <td>3.0</td>\n",
       "      <td>312.0</td>\n",
       "    </tr>\n",
       "    <tr>\n",
       "      <th>329</th>\n",
       "      <td>Wild Berry Smoothie (Small)</td>\n",
       "      <td>210.0</td>\n",
       "      <td>5.0</td>\n",
       "      <td>0.5</td>\n",
       "      <td>0</td>\n",
       "      <td>0.0</td>\n",
       "      <td>5.0</td>\n",
       "      <td>30.0</td>\n",
       "      <td>48.0</td>\n",
       "      <td>3.0</td>\n",
       "      <td>44.0</td>\n",
       "      <td>2.0</td>\n",
       "      <td>252.0</td>\n",
       "    </tr>\n",
       "  </tbody>\n",
       "</table>\n",
       "<p>330 rows × 13 columns</p>\n",
       "</div>"
      ],
      "text/plain": [
       "                                    Item  Calories  Calories from\\nFat  \\\n",
       "0                              Hamburger     250.0                80.0   \n",
       "1                           Cheeseburger     300.0               110.0   \n",
       "2                    Double Cheeseburger     440.0               210.0   \n",
       "3                               McDouble     390.0               170.0   \n",
       "4           Quarter Pounder® with Cheese     510.0               230.0   \n",
       "..                                   ...       ...                 ...   \n",
       "325  Strawberry Banana Smoothie (Medium)     260.0                 5.0   \n",
       "326   Strawberry Banana Smoothie (Small)     210.0                 5.0   \n",
       "327          Wild Berry Smoothie (Large)     320.0                10.0   \n",
       "328         Wild Berry Smoothie (Medium)     260.0                 5.0   \n",
       "329          Wild Berry Smoothie (Small)     210.0                 5.0   \n",
       "\n",
       "     Total Fat\\n(g) Saturated Fat\\n(g)  Trans Fat\\n(g)  Cholesterol\\n(mg)  \\\n",
       "0               9.0                3.5             0.5               25.0   \n",
       "1              12.0                  6             0.5               40.0   \n",
       "2              23.0                 11             1.5               80.0   \n",
       "3              19.0                  8             1.0               65.0   \n",
       "4              26.0                 12             1.5               90.0   \n",
       "..              ...                ...             ...                ...   \n",
       "325             1.0                  0             0.0                5.0   \n",
       "326             0.5                  0             0.0                5.0   \n",
       "327             1.0                0.5             0.0                5.0   \n",
       "328             1.0                  0             0.0                5.0   \n",
       "329             0.5                  0             0.0                5.0   \n",
       "\n",
       "     Sodium \\n(mg)  Carbs\\n(g)  Fiber\\n(g)  Sugars\\n(g)  Protein\\n(g)  \\\n",
       "0            520.0        31.0         2.0          6.0          12.0   \n",
       "1            750.0        33.0         2.0          6.0          15.0   \n",
       "2           1150.0        34.0         2.0          7.0          25.0   \n",
       "3            920.0        33.0         2.0          7.0          22.0   \n",
       "4           1190.0        40.0         3.0          9.0          29.0   \n",
       "..             ...         ...         ...          ...           ...   \n",
       "325           40.0        60.0         3.0         54.0           2.0   \n",
       "326           35.0        49.0         2.0         44.0           2.0   \n",
       "327           45.0        75.0         4.0         69.0           3.0   \n",
       "328           35.0        60.0         4.0         55.0           3.0   \n",
       "329           30.0        48.0         3.0         44.0           2.0   \n",
       "\n",
       "     Weight Watchers\\nPnts  \n",
       "0                    247.5  \n",
       "1                    297.0  \n",
       "2                    433.0  \n",
       "3                    383.0  \n",
       "4                    502.0  \n",
       "..                     ...  \n",
       "325                  312.0  \n",
       "326                  252.0  \n",
       "327                  386.5  \n",
       "328                  312.0  \n",
       "329                  252.0  \n",
       "\n",
       "[330 rows x 13 columns]"
      ]
     },
     "execution_count": 43,
     "metadata": {},
     "output_type": "execute_result"
    }
   ],
   "source": [
    "df = pd.read_csv('/Users/investmentguy/Documents/coding_temple/bonfire_124_sql_day_1/McDonaldsMenuNutrition.csv')\n",
    "df"
   ]
  },
  {
   "cell_type": "markdown",
   "metadata": {},
   "source": [
    "df.info()"
   ]
  },
  {
   "cell_type": "code",
   "execution_count": 44,
   "metadata": {},
   "outputs": [
    {
     "name": "stdout",
     "output_type": "stream",
     "text": [
      "<class 'pandas.core.frame.DataFrame'>\n",
      "RangeIndex: 330 entries, 0 to 329\n",
      "Data columns (total 13 columns):\n",
      " #   Column                Non-Null Count  Dtype  \n",
      "---  ------                --------------  -----  \n",
      " 0   Item                  330 non-null    object \n",
      " 1   Calories              328 non-null    float64\n",
      " 2   Calories from\n",
      "Fat     325 non-null    float64\n",
      " 3   Total Fat\n",
      "(g)         328 non-null    float64\n",
      " 4   Saturated Fat\n",
      "(g)     328 non-null    object \n",
      " 5   Trans Fat\n",
      "(g)         328 non-null    float64\n",
      " 6   Cholesterol\n",
      "(mg)      328 non-null    float64\n",
      " 7   Sodium \n",
      "(mg)          328 non-null    float64\n",
      " 8   Carbs\n",
      "(g)             328 non-null    float64\n",
      " 9   Fiber\n",
      "(g)             328 non-null    float64\n",
      " 10  Sugars\n",
      "(g)            328 non-null    float64\n",
      " 11  Protein\n",
      "(g)           328 non-null    float64\n",
      " 12  Weight Watchers\n",
      "Pnts  325 non-null    float64\n",
      "dtypes: float64(11), object(2)\n",
      "memory usage: 33.6+ KB\n"
     ]
    },
    {
     "data": {
      "text/plain": [
       "Item                     0\n",
       "Calories                 2\n",
       "Calories from\\nFat       5\n",
       "Total Fat\\n(g)           2\n",
       "Saturated Fat\\n(g)       2\n",
       "Trans Fat\\n(g)           2\n",
       "Cholesterol\\n(mg)        2\n",
       "Sodium \\n(mg)            2\n",
       "Carbs\\n(g)               2\n",
       "Fiber\\n(g)               2\n",
       "Sugars\\n(g)              2\n",
       "Protein\\n(g)             2\n",
       "Weight Watchers\\nPnts    5\n",
       "dtype: int64"
      ]
     },
     "execution_count": 44,
     "metadata": {},
     "output_type": "execute_result"
    }
   ],
   "source": [
    "df.info()\n",
    "df.isna().sum()"
   ]
  },
  {
   "cell_type": "code",
   "execution_count": 52,
   "metadata": {},
   "outputs": [
    {
     "data": {
      "text/html": [
       "<div>\n",
       "<style scoped>\n",
       "    .dataframe tbody tr th:only-of-type {\n",
       "        vertical-align: middle;\n",
       "    }\n",
       "\n",
       "    .dataframe tbody tr th {\n",
       "        vertical-align: top;\n",
       "    }\n",
       "\n",
       "    .dataframe thead th {\n",
       "        text-align: right;\n",
       "    }\n",
       "</style>\n",
       "<table border=\"1\" class=\"dataframe\">\n",
       "  <thead>\n",
       "    <tr style=\"text-align: right;\">\n",
       "      <th></th>\n",
       "      <th>item</th>\n",
       "      <th>calories</th>\n",
       "      <th>calories_from\\nfat</th>\n",
       "      <th>total_fat\\n(g)</th>\n",
       "      <th>saturated_fat\\n(g)</th>\n",
       "      <th>trans_fat\\n(g)</th>\n",
       "      <th>cholesterol\\n(mg)</th>\n",
       "      <th>sodium_\\n(mg)</th>\n",
       "      <th>carbs\\n(g)</th>\n",
       "      <th>fiber\\n(g)</th>\n",
       "      <th>sugars\\n(g)</th>\n",
       "      <th>protein\\n(g)</th>\n",
       "      <th>weight_watchers\\npnts</th>\n",
       "    </tr>\n",
       "  </thead>\n",
       "  <tbody>\n",
       "    <tr>\n",
       "      <th>0</th>\n",
       "      <td>Hamburger</td>\n",
       "      <td>250.0</td>\n",
       "      <td>80.0</td>\n",
       "      <td>9.0</td>\n",
       "      <td>3.5</td>\n",
       "      <td>0.5</td>\n",
       "      <td>25.0</td>\n",
       "      <td>520.0</td>\n",
       "      <td>31.0</td>\n",
       "      <td>2.0</td>\n",
       "      <td>6.0</td>\n",
       "      <td>12.0</td>\n",
       "      <td>247.5</td>\n",
       "    </tr>\n",
       "    <tr>\n",
       "      <th>1</th>\n",
       "      <td>Cheeseburger</td>\n",
       "      <td>300.0</td>\n",
       "      <td>110.0</td>\n",
       "      <td>12.0</td>\n",
       "      <td>6</td>\n",
       "      <td>0.5</td>\n",
       "      <td>40.0</td>\n",
       "      <td>750.0</td>\n",
       "      <td>33.0</td>\n",
       "      <td>2.0</td>\n",
       "      <td>6.0</td>\n",
       "      <td>15.0</td>\n",
       "      <td>297.0</td>\n",
       "    </tr>\n",
       "    <tr>\n",
       "      <th>2</th>\n",
       "      <td>Double Cheeseburger</td>\n",
       "      <td>440.0</td>\n",
       "      <td>210.0</td>\n",
       "      <td>23.0</td>\n",
       "      <td>11</td>\n",
       "      <td>1.5</td>\n",
       "      <td>80.0</td>\n",
       "      <td>1150.0</td>\n",
       "      <td>34.0</td>\n",
       "      <td>2.0</td>\n",
       "      <td>7.0</td>\n",
       "      <td>25.0</td>\n",
       "      <td>433.0</td>\n",
       "    </tr>\n",
       "    <tr>\n",
       "      <th>3</th>\n",
       "      <td>McDouble</td>\n",
       "      <td>390.0</td>\n",
       "      <td>170.0</td>\n",
       "      <td>19.0</td>\n",
       "      <td>8</td>\n",
       "      <td>1.0</td>\n",
       "      <td>65.0</td>\n",
       "      <td>920.0</td>\n",
       "      <td>33.0</td>\n",
       "      <td>2.0</td>\n",
       "      <td>7.0</td>\n",
       "      <td>22.0</td>\n",
       "      <td>383.0</td>\n",
       "    </tr>\n",
       "    <tr>\n",
       "      <th>4</th>\n",
       "      <td>Quarter Pounder® with Cheese</td>\n",
       "      <td>510.0</td>\n",
       "      <td>230.0</td>\n",
       "      <td>26.0</td>\n",
       "      <td>12</td>\n",
       "      <td>1.5</td>\n",
       "      <td>90.0</td>\n",
       "      <td>1190.0</td>\n",
       "      <td>40.0</td>\n",
       "      <td>3.0</td>\n",
       "      <td>9.0</td>\n",
       "      <td>29.0</td>\n",
       "      <td>502.0</td>\n",
       "    </tr>\n",
       "    <tr>\n",
       "      <th>...</th>\n",
       "      <td>...</td>\n",
       "      <td>...</td>\n",
       "      <td>...</td>\n",
       "      <td>...</td>\n",
       "      <td>...</td>\n",
       "      <td>...</td>\n",
       "      <td>...</td>\n",
       "      <td>...</td>\n",
       "      <td>...</td>\n",
       "      <td>...</td>\n",
       "      <td>...</td>\n",
       "      <td>...</td>\n",
       "      <td>...</td>\n",
       "    </tr>\n",
       "    <tr>\n",
       "      <th>325</th>\n",
       "      <td>Strawberry Banana Smoothie (Medium)</td>\n",
       "      <td>260.0</td>\n",
       "      <td>5.0</td>\n",
       "      <td>1.0</td>\n",
       "      <td>0</td>\n",
       "      <td>0.0</td>\n",
       "      <td>5.0</td>\n",
       "      <td>40.0</td>\n",
       "      <td>60.0</td>\n",
       "      <td>3.0</td>\n",
       "      <td>54.0</td>\n",
       "      <td>2.0</td>\n",
       "      <td>312.0</td>\n",
       "    </tr>\n",
       "    <tr>\n",
       "      <th>326</th>\n",
       "      <td>Strawberry Banana Smoothie (Small)</td>\n",
       "      <td>210.0</td>\n",
       "      <td>5.0</td>\n",
       "      <td>0.5</td>\n",
       "      <td>0</td>\n",
       "      <td>0.0</td>\n",
       "      <td>5.0</td>\n",
       "      <td>35.0</td>\n",
       "      <td>49.0</td>\n",
       "      <td>2.0</td>\n",
       "      <td>44.0</td>\n",
       "      <td>2.0</td>\n",
       "      <td>252.0</td>\n",
       "    </tr>\n",
       "    <tr>\n",
       "      <th>327</th>\n",
       "      <td>Wild Berry Smoothie (Large)</td>\n",
       "      <td>320.0</td>\n",
       "      <td>10.0</td>\n",
       "      <td>1.0</td>\n",
       "      <td>0.5</td>\n",
       "      <td>0.0</td>\n",
       "      <td>5.0</td>\n",
       "      <td>45.0</td>\n",
       "      <td>75.0</td>\n",
       "      <td>4.0</td>\n",
       "      <td>69.0</td>\n",
       "      <td>3.0</td>\n",
       "      <td>386.5</td>\n",
       "    </tr>\n",
       "    <tr>\n",
       "      <th>328</th>\n",
       "      <td>Wild Berry Smoothie (Medium)</td>\n",
       "      <td>260.0</td>\n",
       "      <td>5.0</td>\n",
       "      <td>1.0</td>\n",
       "      <td>0</td>\n",
       "      <td>0.0</td>\n",
       "      <td>5.0</td>\n",
       "      <td>35.0</td>\n",
       "      <td>60.0</td>\n",
       "      <td>4.0</td>\n",
       "      <td>55.0</td>\n",
       "      <td>3.0</td>\n",
       "      <td>312.0</td>\n",
       "    </tr>\n",
       "    <tr>\n",
       "      <th>329</th>\n",
       "      <td>Wild Berry Smoothie (Small)</td>\n",
       "      <td>210.0</td>\n",
       "      <td>5.0</td>\n",
       "      <td>0.5</td>\n",
       "      <td>0</td>\n",
       "      <td>0.0</td>\n",
       "      <td>5.0</td>\n",
       "      <td>30.0</td>\n",
       "      <td>48.0</td>\n",
       "      <td>3.0</td>\n",
       "      <td>44.0</td>\n",
       "      <td>2.0</td>\n",
       "      <td>252.0</td>\n",
       "    </tr>\n",
       "  </tbody>\n",
       "</table>\n",
       "<p>330 rows × 13 columns</p>\n",
       "</div>"
      ],
      "text/plain": [
       "                                    item  calories  calories_from\\nfat  \\\n",
       "0                              Hamburger     250.0                80.0   \n",
       "1                           Cheeseburger     300.0               110.0   \n",
       "2                    Double Cheeseburger     440.0               210.0   \n",
       "3                               McDouble     390.0               170.0   \n",
       "4           Quarter Pounder® with Cheese     510.0               230.0   \n",
       "..                                   ...       ...                 ...   \n",
       "325  Strawberry Banana Smoothie (Medium)     260.0                 5.0   \n",
       "326   Strawberry Banana Smoothie (Small)     210.0                 5.0   \n",
       "327          Wild Berry Smoothie (Large)     320.0                10.0   \n",
       "328         Wild Berry Smoothie (Medium)     260.0                 5.0   \n",
       "329          Wild Berry Smoothie (Small)     210.0                 5.0   \n",
       "\n",
       "     total_fat\\n(g) saturated_fat\\n(g)  trans_fat\\n(g)  cholesterol\\n(mg)  \\\n",
       "0               9.0                3.5             0.5               25.0   \n",
       "1              12.0                  6             0.5               40.0   \n",
       "2              23.0                 11             1.5               80.0   \n",
       "3              19.0                  8             1.0               65.0   \n",
       "4              26.0                 12             1.5               90.0   \n",
       "..              ...                ...             ...                ...   \n",
       "325             1.0                  0             0.0                5.0   \n",
       "326             0.5                  0             0.0                5.0   \n",
       "327             1.0                0.5             0.0                5.0   \n",
       "328             1.0                  0             0.0                5.0   \n",
       "329             0.5                  0             0.0                5.0   \n",
       "\n",
       "     sodium_\\n(mg)  carbs\\n(g)  fiber\\n(g)  sugars\\n(g)  protein\\n(g)  \\\n",
       "0            520.0        31.0         2.0          6.0          12.0   \n",
       "1            750.0        33.0         2.0          6.0          15.0   \n",
       "2           1150.0        34.0         2.0          7.0          25.0   \n",
       "3            920.0        33.0         2.0          7.0          22.0   \n",
       "4           1190.0        40.0         3.0          9.0          29.0   \n",
       "..             ...         ...         ...          ...           ...   \n",
       "325           40.0        60.0         3.0         54.0           2.0   \n",
       "326           35.0        49.0         2.0         44.0           2.0   \n",
       "327           45.0        75.0         4.0         69.0           3.0   \n",
       "328           35.0        60.0         4.0         55.0           3.0   \n",
       "329           30.0        48.0         3.0         44.0           2.0   \n",
       "\n",
       "     weight_watchers\\npnts  \n",
       "0                    247.5  \n",
       "1                    297.0  \n",
       "2                    433.0  \n",
       "3                    383.0  \n",
       "4                    502.0  \n",
       "..                     ...  \n",
       "325                  312.0  \n",
       "326                  252.0  \n",
       "327                  386.5  \n",
       "328                  312.0  \n",
       "329                  252.0  \n",
       "\n",
       "[330 rows x 13 columns]"
      ]
     },
     "execution_count": 52,
     "metadata": {},
     "output_type": "execute_result"
    }
   ],
   "source": [
    "df['calories'][df['calories'].isna()==True]\n",
    "df.columns = df.columns.str.lower().str.replace(' ','_')\n",
    "df"
   ]
  },
  {
   "cell_type": "code",
   "execution_count": 53,
   "metadata": {},
   "outputs": [
    {
     "data": {
      "text/html": [
       "<div>\n",
       "<style scoped>\n",
       "    .dataframe tbody tr th:only-of-type {\n",
       "        vertical-align: middle;\n",
       "    }\n",
       "\n",
       "    .dataframe tbody tr th {\n",
       "        vertical-align: top;\n",
       "    }\n",
       "\n",
       "    .dataframe thead th {\n",
       "        text-align: right;\n",
       "    }\n",
       "</style>\n",
       "<table border=\"1\" class=\"dataframe\">\n",
       "  <thead>\n",
       "    <tr style=\"text-align: right;\">\n",
       "      <th></th>\n",
       "      <th>item</th>\n",
       "      <th>calories</th>\n",
       "      <th>calories_from\\nfat</th>\n",
       "      <th>total_fat\\n(g)</th>\n",
       "      <th>saturated_fat\\n(g)</th>\n",
       "      <th>trans_fat\\n(g)</th>\n",
       "      <th>cholesterol\\n(mg)</th>\n",
       "      <th>sodium_\\n(mg)</th>\n",
       "      <th>carbs\\n(g)</th>\n",
       "      <th>fiber\\n(g)</th>\n",
       "      <th>sugars\\n(g)</th>\n",
       "      <th>protein\\n(g)</th>\n",
       "      <th>weight_watchers\\npnts</th>\n",
       "    </tr>\n",
       "  </thead>\n",
       "  <tbody>\n",
       "    <tr>\n",
       "      <th>0</th>\n",
       "      <td>Hamburger</td>\n",
       "      <td>250.0</td>\n",
       "      <td>80.0</td>\n",
       "      <td>9.0</td>\n",
       "      <td>35.0</td>\n",
       "      <td>0.5</td>\n",
       "      <td>25.0</td>\n",
       "      <td>520.0</td>\n",
       "      <td>31.0</td>\n",
       "      <td>2.0</td>\n",
       "      <td>6.0</td>\n",
       "      <td>12.0</td>\n",
       "      <td>247.5</td>\n",
       "    </tr>\n",
       "    <tr>\n",
       "      <th>1</th>\n",
       "      <td>Cheeseburger</td>\n",
       "      <td>300.0</td>\n",
       "      <td>110.0</td>\n",
       "      <td>12.0</td>\n",
       "      <td>6.0</td>\n",
       "      <td>0.5</td>\n",
       "      <td>40.0</td>\n",
       "      <td>750.0</td>\n",
       "      <td>33.0</td>\n",
       "      <td>2.0</td>\n",
       "      <td>6.0</td>\n",
       "      <td>15.0</td>\n",
       "      <td>297.0</td>\n",
       "    </tr>\n",
       "    <tr>\n",
       "      <th>2</th>\n",
       "      <td>Double Cheeseburger</td>\n",
       "      <td>440.0</td>\n",
       "      <td>210.0</td>\n",
       "      <td>23.0</td>\n",
       "      <td>11.0</td>\n",
       "      <td>1.5</td>\n",
       "      <td>80.0</td>\n",
       "      <td>1150.0</td>\n",
       "      <td>34.0</td>\n",
       "      <td>2.0</td>\n",
       "      <td>7.0</td>\n",
       "      <td>25.0</td>\n",
       "      <td>433.0</td>\n",
       "    </tr>\n",
       "    <tr>\n",
       "      <th>3</th>\n",
       "      <td>McDouble</td>\n",
       "      <td>390.0</td>\n",
       "      <td>170.0</td>\n",
       "      <td>19.0</td>\n",
       "      <td>8.0</td>\n",
       "      <td>1.0</td>\n",
       "      <td>65.0</td>\n",
       "      <td>920.0</td>\n",
       "      <td>33.0</td>\n",
       "      <td>2.0</td>\n",
       "      <td>7.0</td>\n",
       "      <td>22.0</td>\n",
       "      <td>383.0</td>\n",
       "    </tr>\n",
       "    <tr>\n",
       "      <th>4</th>\n",
       "      <td>Quarter Pounder® with Cheese</td>\n",
       "      <td>510.0</td>\n",
       "      <td>230.0</td>\n",
       "      <td>26.0</td>\n",
       "      <td>12.0</td>\n",
       "      <td>1.5</td>\n",
       "      <td>90.0</td>\n",
       "      <td>1190.0</td>\n",
       "      <td>40.0</td>\n",
       "      <td>3.0</td>\n",
       "      <td>9.0</td>\n",
       "      <td>29.0</td>\n",
       "      <td>502.0</td>\n",
       "    </tr>\n",
       "    <tr>\n",
       "      <th>...</th>\n",
       "      <td>...</td>\n",
       "      <td>...</td>\n",
       "      <td>...</td>\n",
       "      <td>...</td>\n",
       "      <td>...</td>\n",
       "      <td>...</td>\n",
       "      <td>...</td>\n",
       "      <td>...</td>\n",
       "      <td>...</td>\n",
       "      <td>...</td>\n",
       "      <td>...</td>\n",
       "      <td>...</td>\n",
       "      <td>...</td>\n",
       "    </tr>\n",
       "    <tr>\n",
       "      <th>325</th>\n",
       "      <td>Strawberry Banana Smoothie (Medium)</td>\n",
       "      <td>260.0</td>\n",
       "      <td>5.0</td>\n",
       "      <td>1.0</td>\n",
       "      <td>0.0</td>\n",
       "      <td>0.0</td>\n",
       "      <td>5.0</td>\n",
       "      <td>40.0</td>\n",
       "      <td>60.0</td>\n",
       "      <td>3.0</td>\n",
       "      <td>54.0</td>\n",
       "      <td>2.0</td>\n",
       "      <td>312.0</td>\n",
       "    </tr>\n",
       "    <tr>\n",
       "      <th>326</th>\n",
       "      <td>Strawberry Banana Smoothie (Small)</td>\n",
       "      <td>210.0</td>\n",
       "      <td>5.0</td>\n",
       "      <td>0.5</td>\n",
       "      <td>0.0</td>\n",
       "      <td>0.0</td>\n",
       "      <td>5.0</td>\n",
       "      <td>35.0</td>\n",
       "      <td>49.0</td>\n",
       "      <td>2.0</td>\n",
       "      <td>44.0</td>\n",
       "      <td>2.0</td>\n",
       "      <td>252.0</td>\n",
       "    </tr>\n",
       "    <tr>\n",
       "      <th>327</th>\n",
       "      <td>Wild Berry Smoothie (Large)</td>\n",
       "      <td>320.0</td>\n",
       "      <td>10.0</td>\n",
       "      <td>1.0</td>\n",
       "      <td>5.0</td>\n",
       "      <td>0.0</td>\n",
       "      <td>5.0</td>\n",
       "      <td>45.0</td>\n",
       "      <td>75.0</td>\n",
       "      <td>4.0</td>\n",
       "      <td>69.0</td>\n",
       "      <td>3.0</td>\n",
       "      <td>386.5</td>\n",
       "    </tr>\n",
       "    <tr>\n",
       "      <th>328</th>\n",
       "      <td>Wild Berry Smoothie (Medium)</td>\n",
       "      <td>260.0</td>\n",
       "      <td>5.0</td>\n",
       "      <td>1.0</td>\n",
       "      <td>0.0</td>\n",
       "      <td>0.0</td>\n",
       "      <td>5.0</td>\n",
       "      <td>35.0</td>\n",
       "      <td>60.0</td>\n",
       "      <td>4.0</td>\n",
       "      <td>55.0</td>\n",
       "      <td>3.0</td>\n",
       "      <td>312.0</td>\n",
       "    </tr>\n",
       "    <tr>\n",
       "      <th>329</th>\n",
       "      <td>Wild Berry Smoothie (Small)</td>\n",
       "      <td>210.0</td>\n",
       "      <td>5.0</td>\n",
       "      <td>0.5</td>\n",
       "      <td>0.0</td>\n",
       "      <td>0.0</td>\n",
       "      <td>5.0</td>\n",
       "      <td>30.0</td>\n",
       "      <td>48.0</td>\n",
       "      <td>3.0</td>\n",
       "      <td>44.0</td>\n",
       "      <td>2.0</td>\n",
       "      <td>252.0</td>\n",
       "    </tr>\n",
       "  </tbody>\n",
       "</table>\n",
       "<p>330 rows × 13 columns</p>\n",
       "</div>"
      ],
      "text/plain": [
       "                                    item  calories  calories_from\\nfat  \\\n",
       "0                              Hamburger     250.0                80.0   \n",
       "1                           Cheeseburger     300.0               110.0   \n",
       "2                    Double Cheeseburger     440.0               210.0   \n",
       "3                               McDouble     390.0               170.0   \n",
       "4           Quarter Pounder® with Cheese     510.0               230.0   \n",
       "..                                   ...       ...                 ...   \n",
       "325  Strawberry Banana Smoothie (Medium)     260.0                 5.0   \n",
       "326   Strawberry Banana Smoothie (Small)     210.0                 5.0   \n",
       "327          Wild Berry Smoothie (Large)     320.0                10.0   \n",
       "328         Wild Berry Smoothie (Medium)     260.0                 5.0   \n",
       "329          Wild Berry Smoothie (Small)     210.0                 5.0   \n",
       "\n",
       "     total_fat\\n(g)  saturated_fat\\n(g)  trans_fat\\n(g)  cholesterol\\n(mg)  \\\n",
       "0               9.0                35.0             0.5               25.0   \n",
       "1              12.0                 6.0             0.5               40.0   \n",
       "2              23.0                11.0             1.5               80.0   \n",
       "3              19.0                 8.0             1.0               65.0   \n",
       "4              26.0                12.0             1.5               90.0   \n",
       "..              ...                 ...             ...                ...   \n",
       "325             1.0                 0.0             0.0                5.0   \n",
       "326             0.5                 0.0             0.0                5.0   \n",
       "327             1.0                 5.0             0.0                5.0   \n",
       "328             1.0                 0.0             0.0                5.0   \n",
       "329             0.5                 0.0             0.0                5.0   \n",
       "\n",
       "     sodium_\\n(mg)  carbs\\n(g)  fiber\\n(g)  sugars\\n(g)  protein\\n(g)  \\\n",
       "0            520.0        31.0         2.0          6.0          12.0   \n",
       "1            750.0        33.0         2.0          6.0          15.0   \n",
       "2           1150.0        34.0         2.0          7.0          25.0   \n",
       "3            920.0        33.0         2.0          7.0          22.0   \n",
       "4           1190.0        40.0         3.0          9.0          29.0   \n",
       "..             ...         ...         ...          ...           ...   \n",
       "325           40.0        60.0         3.0         54.0           2.0   \n",
       "326           35.0        49.0         2.0         44.0           2.0   \n",
       "327           45.0        75.0         4.0         69.0           3.0   \n",
       "328           35.0        60.0         4.0         55.0           3.0   \n",
       "329           30.0        48.0         3.0         44.0           2.0   \n",
       "\n",
       "     weight_watchers\\npnts  \n",
       "0                    247.5  \n",
       "1                    297.0  \n",
       "2                    433.0  \n",
       "3                    383.0  \n",
       "4                    502.0  \n",
       "..                     ...  \n",
       "325                  312.0  \n",
       "326                  252.0  \n",
       "327                  386.5  \n",
       "328                  312.0  \n",
       "329                  252.0  \n",
       "\n",
       "[330 rows x 13 columns]"
      ]
     },
     "execution_count": 53,
     "metadata": {},
     "output_type": "execute_result"
    }
   ],
   "source": [
    "# px.histogram(df, x = 'Calories')\n",
    "df['saturated_fat\\n(g)'] = df['saturated_fat\\n(g)'].str.strip().str.replace('\\D', '', regex=True)\n",
    "df['saturated_fat\\n(g)'] = df['saturated_fat\\n(g)'].astype('Float64')\n",
    "df"
   ]
  },
  {
   "cell_type": "code",
   "execution_count": 68,
   "metadata": {},
   "outputs": [
    {
     "data": {
      "application/vnd.plotly.v1+json": {
       "config": {
        "plotlyServerURL": "https://plot.ly"
       },
       "data": [
        {
         "alignmentgroup": "True",
         "bingroup": "x",
         "hovertemplate": "calories=%{x}<br>count=%{y}<extra></extra>",
         "legendgroup": "",
         "marker": {
          "color": "#636efa",
          "pattern": {
           "shape": ""
          }
         },
         "name": "",
         "offsetgroup": "",
         "orientation": "v",
         "showlegend": false,
         "type": "histogram",
         "x": [
          250,
          300,
          440,
          390,
          510,
          740,
          540,
          460,
          510,
          790,
          750,
          770,
          380,
          360,
          500,
          360,
          510,
          460,
          620,
          380,
          540,
          400,
          340,
          270,
          330,
          260,
          330,
          260,
          390,
          800,
          400,
          410,
          430,
          330,
          230,
          380,
          500,
          15,
          0,
          190,
          280,
          470,
          50,
          50,
          60,
          50,
          400,
          660,
          60,
          170,
          60,
          60,
          320,
          430,
          140,
          260,
          370,
          140,
          220,
          330,
          90,
          20,
          60,
          210,
          100,
          190,
          40,
          60,
          170,
          300,
          370,
          450,
          160,
          420,
          480,
          510,
          570,
          430,
          480,
          410,
          470,
          660,
          420,
          560,
          420,
          740,
          800,
          1090,
          1150,
          300,
          610,
          350,
          520,
          180,
          40,
          150,
          35,
          35,
          560,
          290,
          260,
          160,
          70,
          150,
          45,
          280,
          340,
          330,
          45,
          710,
          580,
          250,
          460,
          260,
          160,
          150,
          160,
          100,
          580,
          720,
          880,
          440,
          580,
          770,
          1160,
          430,
          340,
          570,
          710,
          860,
          420,
          560,
          740,
          1110,
          540,
          680,
          830,
          1110,
          420,
          550,
          740,
          100,
          170,
          100,
          0,
          150,
          190,
          280,
          110,
          150,
          210,
          310,
          0,
          0,
          0,
          0,
          110,
          150,
          210,
          310,
          120,
          160,
          240,
          350,
          70,
          100,
          150,
          220,
          0,
          0,
          0,
          0,
          0,
          0,
          20,
          15,
          0,
          0,
          130,
          190,
          270,
          130,
          190,
          270,
          140,
          200,
          280,
          130,
          190,
          270,
          60,
          90,
          120,
          110,
          280,
          180,
          150,
          60,
          80,
          90,
          90,
          110,
          120,
          150,
          190,
          230,
          170,
          220,
          260,
          150,
          190,
          230,
          180,
          220,
          260,
          150,
          190,
          230,
          180,
          220,
          260,
          50,
          70,
          80,
          80,
          90,
          110,
          240,
          280,
          330,
          250,
          310,
          390,
          50,
          60,
          70,
          140,
          150,
          190,
          140,
          150,
          190,
          140,
          150,
          190,
          40,
          50,
          60,
          270,
          300,
          240,
          200,
          280,
          240,
          200,
          120,
          140,
          180,
          150,
          180,
          210,
          200,
          240,
          290,
          230,
          280,
          330,
          200,
          240,
          290,
          230,
          280,
          330,
          200,
          240,
          290,
          230,
          280,
          330,
          100,
          120,
          150,
          130,
          160,
          180,
          280,
          330,
          400,
          300,
          380,
          460,
          80,
          100,
          140,
          160,
          180,
          230,
          160,
          180,
          230,
          160,
          190,
          230,
          60,
          90,
          110,
          310,
          360,
          290,
          250,
          380,
          300,
          240,
          450,
          550,
          680,
          450,
          560,
          680,
          330,
          260,
          210,
          320,
          260,
          210
         ],
         "xaxis": "x",
         "yaxis": "y"
        }
       ],
       "layout": {
        "barmode": "relative",
        "legend": {
         "tracegroupgap": 0
        },
        "margin": {
         "t": 60
        },
        "template": {
         "data": {
          "bar": [
           {
            "error_x": {
             "color": "#2a3f5f"
            },
            "error_y": {
             "color": "#2a3f5f"
            },
            "marker": {
             "line": {
              "color": "#E5ECF6",
              "width": 0.5
             },
             "pattern": {
              "fillmode": "overlay",
              "size": 10,
              "solidity": 0.2
             }
            },
            "type": "bar"
           }
          ],
          "barpolar": [
           {
            "marker": {
             "line": {
              "color": "#E5ECF6",
              "width": 0.5
             },
             "pattern": {
              "fillmode": "overlay",
              "size": 10,
              "solidity": 0.2
             }
            },
            "type": "barpolar"
           }
          ],
          "carpet": [
           {
            "aaxis": {
             "endlinecolor": "#2a3f5f",
             "gridcolor": "white",
             "linecolor": "white",
             "minorgridcolor": "white",
             "startlinecolor": "#2a3f5f"
            },
            "baxis": {
             "endlinecolor": "#2a3f5f",
             "gridcolor": "white",
             "linecolor": "white",
             "minorgridcolor": "white",
             "startlinecolor": "#2a3f5f"
            },
            "type": "carpet"
           }
          ],
          "choropleth": [
           {
            "colorbar": {
             "outlinewidth": 0,
             "ticks": ""
            },
            "type": "choropleth"
           }
          ],
          "contour": [
           {
            "colorbar": {
             "outlinewidth": 0,
             "ticks": ""
            },
            "colorscale": [
             [
              0,
              "#0d0887"
             ],
             [
              0.1111111111111111,
              "#46039f"
             ],
             [
              0.2222222222222222,
              "#7201a8"
             ],
             [
              0.3333333333333333,
              "#9c179e"
             ],
             [
              0.4444444444444444,
              "#bd3786"
             ],
             [
              0.5555555555555556,
              "#d8576b"
             ],
             [
              0.6666666666666666,
              "#ed7953"
             ],
             [
              0.7777777777777778,
              "#fb9f3a"
             ],
             [
              0.8888888888888888,
              "#fdca26"
             ],
             [
              1,
              "#f0f921"
             ]
            ],
            "type": "contour"
           }
          ],
          "contourcarpet": [
           {
            "colorbar": {
             "outlinewidth": 0,
             "ticks": ""
            },
            "type": "contourcarpet"
           }
          ],
          "heatmap": [
           {
            "colorbar": {
             "outlinewidth": 0,
             "ticks": ""
            },
            "colorscale": [
             [
              0,
              "#0d0887"
             ],
             [
              0.1111111111111111,
              "#46039f"
             ],
             [
              0.2222222222222222,
              "#7201a8"
             ],
             [
              0.3333333333333333,
              "#9c179e"
             ],
             [
              0.4444444444444444,
              "#bd3786"
             ],
             [
              0.5555555555555556,
              "#d8576b"
             ],
             [
              0.6666666666666666,
              "#ed7953"
             ],
             [
              0.7777777777777778,
              "#fb9f3a"
             ],
             [
              0.8888888888888888,
              "#fdca26"
             ],
             [
              1,
              "#f0f921"
             ]
            ],
            "type": "heatmap"
           }
          ],
          "heatmapgl": [
           {
            "colorbar": {
             "outlinewidth": 0,
             "ticks": ""
            },
            "colorscale": [
             [
              0,
              "#0d0887"
             ],
             [
              0.1111111111111111,
              "#46039f"
             ],
             [
              0.2222222222222222,
              "#7201a8"
             ],
             [
              0.3333333333333333,
              "#9c179e"
             ],
             [
              0.4444444444444444,
              "#bd3786"
             ],
             [
              0.5555555555555556,
              "#d8576b"
             ],
             [
              0.6666666666666666,
              "#ed7953"
             ],
             [
              0.7777777777777778,
              "#fb9f3a"
             ],
             [
              0.8888888888888888,
              "#fdca26"
             ],
             [
              1,
              "#f0f921"
             ]
            ],
            "type": "heatmapgl"
           }
          ],
          "histogram": [
           {
            "marker": {
             "pattern": {
              "fillmode": "overlay",
              "size": 10,
              "solidity": 0.2
             }
            },
            "type": "histogram"
           }
          ],
          "histogram2d": [
           {
            "colorbar": {
             "outlinewidth": 0,
             "ticks": ""
            },
            "colorscale": [
             [
              0,
              "#0d0887"
             ],
             [
              0.1111111111111111,
              "#46039f"
             ],
             [
              0.2222222222222222,
              "#7201a8"
             ],
             [
              0.3333333333333333,
              "#9c179e"
             ],
             [
              0.4444444444444444,
              "#bd3786"
             ],
             [
              0.5555555555555556,
              "#d8576b"
             ],
             [
              0.6666666666666666,
              "#ed7953"
             ],
             [
              0.7777777777777778,
              "#fb9f3a"
             ],
             [
              0.8888888888888888,
              "#fdca26"
             ],
             [
              1,
              "#f0f921"
             ]
            ],
            "type": "histogram2d"
           }
          ],
          "histogram2dcontour": [
           {
            "colorbar": {
             "outlinewidth": 0,
             "ticks": ""
            },
            "colorscale": [
             [
              0,
              "#0d0887"
             ],
             [
              0.1111111111111111,
              "#46039f"
             ],
             [
              0.2222222222222222,
              "#7201a8"
             ],
             [
              0.3333333333333333,
              "#9c179e"
             ],
             [
              0.4444444444444444,
              "#bd3786"
             ],
             [
              0.5555555555555556,
              "#d8576b"
             ],
             [
              0.6666666666666666,
              "#ed7953"
             ],
             [
              0.7777777777777778,
              "#fb9f3a"
             ],
             [
              0.8888888888888888,
              "#fdca26"
             ],
             [
              1,
              "#f0f921"
             ]
            ],
            "type": "histogram2dcontour"
           }
          ],
          "mesh3d": [
           {
            "colorbar": {
             "outlinewidth": 0,
             "ticks": ""
            },
            "type": "mesh3d"
           }
          ],
          "parcoords": [
           {
            "line": {
             "colorbar": {
              "outlinewidth": 0,
              "ticks": ""
             }
            },
            "type": "parcoords"
           }
          ],
          "pie": [
           {
            "automargin": true,
            "type": "pie"
           }
          ],
          "scatter": [
           {
            "fillpattern": {
             "fillmode": "overlay",
             "size": 10,
             "solidity": 0.2
            },
            "type": "scatter"
           }
          ],
          "scatter3d": [
           {
            "line": {
             "colorbar": {
              "outlinewidth": 0,
              "ticks": ""
             }
            },
            "marker": {
             "colorbar": {
              "outlinewidth": 0,
              "ticks": ""
             }
            },
            "type": "scatter3d"
           }
          ],
          "scattercarpet": [
           {
            "marker": {
             "colorbar": {
              "outlinewidth": 0,
              "ticks": ""
             }
            },
            "type": "scattercarpet"
           }
          ],
          "scattergeo": [
           {
            "marker": {
             "colorbar": {
              "outlinewidth": 0,
              "ticks": ""
             }
            },
            "type": "scattergeo"
           }
          ],
          "scattergl": [
           {
            "marker": {
             "colorbar": {
              "outlinewidth": 0,
              "ticks": ""
             }
            },
            "type": "scattergl"
           }
          ],
          "scattermapbox": [
           {
            "marker": {
             "colorbar": {
              "outlinewidth": 0,
              "ticks": ""
             }
            },
            "type": "scattermapbox"
           }
          ],
          "scatterpolar": [
           {
            "marker": {
             "colorbar": {
              "outlinewidth": 0,
              "ticks": ""
             }
            },
            "type": "scatterpolar"
           }
          ],
          "scatterpolargl": [
           {
            "marker": {
             "colorbar": {
              "outlinewidth": 0,
              "ticks": ""
             }
            },
            "type": "scatterpolargl"
           }
          ],
          "scatterternary": [
           {
            "marker": {
             "colorbar": {
              "outlinewidth": 0,
              "ticks": ""
             }
            },
            "type": "scatterternary"
           }
          ],
          "surface": [
           {
            "colorbar": {
             "outlinewidth": 0,
             "ticks": ""
            },
            "colorscale": [
             [
              0,
              "#0d0887"
             ],
             [
              0.1111111111111111,
              "#46039f"
             ],
             [
              0.2222222222222222,
              "#7201a8"
             ],
             [
              0.3333333333333333,
              "#9c179e"
             ],
             [
              0.4444444444444444,
              "#bd3786"
             ],
             [
              0.5555555555555556,
              "#d8576b"
             ],
             [
              0.6666666666666666,
              "#ed7953"
             ],
             [
              0.7777777777777778,
              "#fb9f3a"
             ],
             [
              0.8888888888888888,
              "#fdca26"
             ],
             [
              1,
              "#f0f921"
             ]
            ],
            "type": "surface"
           }
          ],
          "table": [
           {
            "cells": {
             "fill": {
              "color": "#EBF0F8"
             },
             "line": {
              "color": "white"
             }
            },
            "header": {
             "fill": {
              "color": "#C8D4E3"
             },
             "line": {
              "color": "white"
             }
            },
            "type": "table"
           }
          ]
         },
         "layout": {
          "annotationdefaults": {
           "arrowcolor": "#2a3f5f",
           "arrowhead": 0,
           "arrowwidth": 1
          },
          "autotypenumbers": "strict",
          "coloraxis": {
           "colorbar": {
            "outlinewidth": 0,
            "ticks": ""
           }
          },
          "colorscale": {
           "diverging": [
            [
             0,
             "#8e0152"
            ],
            [
             0.1,
             "#c51b7d"
            ],
            [
             0.2,
             "#de77ae"
            ],
            [
             0.3,
             "#f1b6da"
            ],
            [
             0.4,
             "#fde0ef"
            ],
            [
             0.5,
             "#f7f7f7"
            ],
            [
             0.6,
             "#e6f5d0"
            ],
            [
             0.7,
             "#b8e186"
            ],
            [
             0.8,
             "#7fbc41"
            ],
            [
             0.9,
             "#4d9221"
            ],
            [
             1,
             "#276419"
            ]
           ],
           "sequential": [
            [
             0,
             "#0d0887"
            ],
            [
             0.1111111111111111,
             "#46039f"
            ],
            [
             0.2222222222222222,
             "#7201a8"
            ],
            [
             0.3333333333333333,
             "#9c179e"
            ],
            [
             0.4444444444444444,
             "#bd3786"
            ],
            [
             0.5555555555555556,
             "#d8576b"
            ],
            [
             0.6666666666666666,
             "#ed7953"
            ],
            [
             0.7777777777777778,
             "#fb9f3a"
            ],
            [
             0.8888888888888888,
             "#fdca26"
            ],
            [
             1,
             "#f0f921"
            ]
           ],
           "sequentialminus": [
            [
             0,
             "#0d0887"
            ],
            [
             0.1111111111111111,
             "#46039f"
            ],
            [
             0.2222222222222222,
             "#7201a8"
            ],
            [
             0.3333333333333333,
             "#9c179e"
            ],
            [
             0.4444444444444444,
             "#bd3786"
            ],
            [
             0.5555555555555556,
             "#d8576b"
            ],
            [
             0.6666666666666666,
             "#ed7953"
            ],
            [
             0.7777777777777778,
             "#fb9f3a"
            ],
            [
             0.8888888888888888,
             "#fdca26"
            ],
            [
             1,
             "#f0f921"
            ]
           ]
          },
          "colorway": [
           "#636efa",
           "#EF553B",
           "#00cc96",
           "#ab63fa",
           "#FFA15A",
           "#19d3f3",
           "#FF6692",
           "#B6E880",
           "#FF97FF",
           "#FECB52"
          ],
          "font": {
           "color": "#2a3f5f"
          },
          "geo": {
           "bgcolor": "white",
           "lakecolor": "white",
           "landcolor": "#E5ECF6",
           "showlakes": true,
           "showland": true,
           "subunitcolor": "white"
          },
          "hoverlabel": {
           "align": "left"
          },
          "hovermode": "closest",
          "mapbox": {
           "style": "light"
          },
          "paper_bgcolor": "white",
          "plot_bgcolor": "#E5ECF6",
          "polar": {
           "angularaxis": {
            "gridcolor": "white",
            "linecolor": "white",
            "ticks": ""
           },
           "bgcolor": "#E5ECF6",
           "radialaxis": {
            "gridcolor": "white",
            "linecolor": "white",
            "ticks": ""
           }
          },
          "scene": {
           "xaxis": {
            "backgroundcolor": "#E5ECF6",
            "gridcolor": "white",
            "gridwidth": 2,
            "linecolor": "white",
            "showbackground": true,
            "ticks": "",
            "zerolinecolor": "white"
           },
           "yaxis": {
            "backgroundcolor": "#E5ECF6",
            "gridcolor": "white",
            "gridwidth": 2,
            "linecolor": "white",
            "showbackground": true,
            "ticks": "",
            "zerolinecolor": "white"
           },
           "zaxis": {
            "backgroundcolor": "#E5ECF6",
            "gridcolor": "white",
            "gridwidth": 2,
            "linecolor": "white",
            "showbackground": true,
            "ticks": "",
            "zerolinecolor": "white"
           }
          },
          "shapedefaults": {
           "line": {
            "color": "#2a3f5f"
           }
          },
          "ternary": {
           "aaxis": {
            "gridcolor": "white",
            "linecolor": "white",
            "ticks": ""
           },
           "baxis": {
            "gridcolor": "white",
            "linecolor": "white",
            "ticks": ""
           },
           "bgcolor": "#E5ECF6",
           "caxis": {
            "gridcolor": "white",
            "linecolor": "white",
            "ticks": ""
           }
          },
          "title": {
           "x": 0.05
          },
          "xaxis": {
           "automargin": true,
           "gridcolor": "white",
           "linecolor": "white",
           "ticks": "",
           "title": {
            "standoff": 15
           },
           "zerolinecolor": "white",
           "zerolinewidth": 2
          },
          "yaxis": {
           "automargin": true,
           "gridcolor": "white",
           "linecolor": "white",
           "ticks": "",
           "title": {
            "standoff": 15
           },
           "zerolinecolor": "white",
           "zerolinewidth": 2
          }
         }
        },
        "xaxis": {
         "anchor": "y",
         "domain": [
          0,
          1
         ],
         "title": {
          "text": "calories"
         }
        },
        "yaxis": {
         "anchor": "x",
         "domain": [
          0,
          1
         ],
         "title": {
          "text": "count"
         }
        }
       }
      }
     },
     "metadata": {},
     "output_type": "display_data"
    }
   ],
   "source": [
    "# df['Calories'][df['Calories'].median()]\n",
    "# df1 = df.loc[df['Calories'].isna()==True]\n",
    "# df.drop(df1)\n",
    "df.dropna(inplace=True)\n",
    "df.isna().sum()\n",
    "px.histogram(df, x='calories')"
   ]
  }
 ],
 "metadata": {
  "kernelspec": {
   "display_name": "Python 3",
   "language": "python",
   "name": "python3"
  },
  "language_info": {
   "codemirror_mode": {
    "name": "ipython",
    "version": 3
   },
   "file_extension": ".py",
   "mimetype": "text/x-python",
   "name": "python",
   "nbconvert_exporter": "python",
   "pygments_lexer": "ipython3",
   "version": "3.9.6"
  },
  "orig_nbformat": 4
 },
 "nbformat": 4,
 "nbformat_minor": 2
}
